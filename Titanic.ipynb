{
 "cells": [
  {
   "cell_type": "markdown",
   "id": "5938c733-1604-4797-b5e0-173b500973f9",
   "metadata": {},
   "source": [
    "# Titanic - Machine Learning from disaster\n",
    "\n",
    "This notebook is created to participate in this Kaggle competition: https://www.kaggle.com/c/titanic/overview.\n",
    "Currently, the model in the notebook archieves 78.23% accuracy\n",
    "\n",
    "## 1. Studying the data and preprocessing"
   ]
  },
  {
   "cell_type": "code",
   "execution_count": 1,
   "id": "82cb3f90-82c7-45e1-85e8-167d7c799785",
   "metadata": {},
   "outputs": [
    {
     "data": {
      "text/html": [
       "<div>\n",
       "<style scoped>\n",
       "    .dataframe tbody tr th:only-of-type {\n",
       "        vertical-align: middle;\n",
       "    }\n",
       "\n",
       "    .dataframe tbody tr th {\n",
       "        vertical-align: top;\n",
       "    }\n",
       "\n",
       "    .dataframe thead th {\n",
       "        text-align: right;\n",
       "    }\n",
       "</style>\n",
       "<table border=\"1\" class=\"dataframe\">\n",
       "  <thead>\n",
       "    <tr style=\"text-align: right;\">\n",
       "      <th></th>\n",
       "      <th>PassengerId</th>\n",
       "      <th>Survived</th>\n",
       "      <th>Pclass</th>\n",
       "      <th>Name</th>\n",
       "      <th>Sex</th>\n",
       "      <th>Age</th>\n",
       "      <th>SibSp</th>\n",
       "      <th>Parch</th>\n",
       "      <th>Ticket</th>\n",
       "      <th>Fare</th>\n",
       "      <th>Cabin</th>\n",
       "      <th>Embarked</th>\n",
       "    </tr>\n",
       "  </thead>\n",
       "  <tbody>\n",
       "    <tr>\n",
       "      <th>0</th>\n",
       "      <td>1</td>\n",
       "      <td>0</td>\n",
       "      <td>3</td>\n",
       "      <td>Braund, Mr. Owen Harris</td>\n",
       "      <td>male</td>\n",
       "      <td>22.0</td>\n",
       "      <td>1</td>\n",
       "      <td>0</td>\n",
       "      <td>A/5 21171</td>\n",
       "      <td>7.2500</td>\n",
       "      <td>NaN</td>\n",
       "      <td>S</td>\n",
       "    </tr>\n",
       "    <tr>\n",
       "      <th>1</th>\n",
       "      <td>2</td>\n",
       "      <td>1</td>\n",
       "      <td>1</td>\n",
       "      <td>Cumings, Mrs. John Bradley (Florence Briggs Th...</td>\n",
       "      <td>female</td>\n",
       "      <td>38.0</td>\n",
       "      <td>1</td>\n",
       "      <td>0</td>\n",
       "      <td>PC 17599</td>\n",
       "      <td>71.2833</td>\n",
       "      <td>C85</td>\n",
       "      <td>C</td>\n",
       "    </tr>\n",
       "    <tr>\n",
       "      <th>2</th>\n",
       "      <td>3</td>\n",
       "      <td>1</td>\n",
       "      <td>3</td>\n",
       "      <td>Heikkinen, Miss. Laina</td>\n",
       "      <td>female</td>\n",
       "      <td>26.0</td>\n",
       "      <td>0</td>\n",
       "      <td>0</td>\n",
       "      <td>STON/O2. 3101282</td>\n",
       "      <td>7.9250</td>\n",
       "      <td>NaN</td>\n",
       "      <td>S</td>\n",
       "    </tr>\n",
       "    <tr>\n",
       "      <th>3</th>\n",
       "      <td>4</td>\n",
       "      <td>1</td>\n",
       "      <td>1</td>\n",
       "      <td>Futrelle, Mrs. Jacques Heath (Lily May Peel)</td>\n",
       "      <td>female</td>\n",
       "      <td>35.0</td>\n",
       "      <td>1</td>\n",
       "      <td>0</td>\n",
       "      <td>113803</td>\n",
       "      <td>53.1000</td>\n",
       "      <td>C123</td>\n",
       "      <td>S</td>\n",
       "    </tr>\n",
       "    <tr>\n",
       "      <th>4</th>\n",
       "      <td>5</td>\n",
       "      <td>0</td>\n",
       "      <td>3</td>\n",
       "      <td>Allen, Mr. William Henry</td>\n",
       "      <td>male</td>\n",
       "      <td>35.0</td>\n",
       "      <td>0</td>\n",
       "      <td>0</td>\n",
       "      <td>373450</td>\n",
       "      <td>8.0500</td>\n",
       "      <td>NaN</td>\n",
       "      <td>S</td>\n",
       "    </tr>\n",
       "  </tbody>\n",
       "</table>\n",
       "</div>"
      ],
      "text/plain": [
       "   PassengerId  Survived  Pclass  \\\n",
       "0            1         0       3   \n",
       "1            2         1       1   \n",
       "2            3         1       3   \n",
       "3            4         1       1   \n",
       "4            5         0       3   \n",
       "\n",
       "                                                Name     Sex   Age  SibSp  \\\n",
       "0                            Braund, Mr. Owen Harris    male  22.0      1   \n",
       "1  Cumings, Mrs. John Bradley (Florence Briggs Th...  female  38.0      1   \n",
       "2                             Heikkinen, Miss. Laina  female  26.0      0   \n",
       "3       Futrelle, Mrs. Jacques Heath (Lily May Peel)  female  35.0      1   \n",
       "4                           Allen, Mr. William Henry    male  35.0      0   \n",
       "\n",
       "   Parch            Ticket     Fare Cabin Embarked  \n",
       "0      0         A/5 21171   7.2500   NaN        S  \n",
       "1      0          PC 17599  71.2833   C85        C  \n",
       "2      0  STON/O2. 3101282   7.9250   NaN        S  \n",
       "3      0            113803  53.1000  C123        S  \n",
       "4      0            373450   8.0500   NaN        S  "
      ]
     },
     "execution_count": 1,
     "metadata": {},
     "output_type": "execute_result"
    }
   ],
   "source": [
    "import pandas as pd\n",
    "import seaborn as sns\n",
    "import matplotlib.pyplot as plt\n",
    "\n",
    "\n",
    "traindf = pd.read_csv(\"train.csv\")\n",
    "traindf.head()"
   ]
  },
  {
   "cell_type": "code",
   "execution_count": 2,
   "id": "f84f6518-2db0-4625-b3e6-4d6b1bdd0d86",
   "metadata": {},
   "outputs": [
    {
     "data": {
      "text/html": [
       "<div>\n",
       "<style scoped>\n",
       "    .dataframe tbody tr th:only-of-type {\n",
       "        vertical-align: middle;\n",
       "    }\n",
       "\n",
       "    .dataframe tbody tr th {\n",
       "        vertical-align: top;\n",
       "    }\n",
       "\n",
       "    .dataframe thead th {\n",
       "        text-align: right;\n",
       "    }\n",
       "</style>\n",
       "<table border=\"1\" class=\"dataframe\">\n",
       "  <thead>\n",
       "    <tr style=\"text-align: right;\">\n",
       "      <th></th>\n",
       "      <th>Survived</th>\n",
       "      <th>Pclass</th>\n",
       "      <th>Sex</th>\n",
       "      <th>Age</th>\n",
       "      <th>SibSp</th>\n",
       "      <th>Parch</th>\n",
       "      <th>Fare</th>\n",
       "      <th>Cabin</th>\n",
       "      <th>C</th>\n",
       "      <th>Q</th>\n",
       "      <th>S</th>\n",
       "    </tr>\n",
       "  </thead>\n",
       "  <tbody>\n",
       "    <tr>\n",
       "      <th>886</th>\n",
       "      <td>0</td>\n",
       "      <td>2</td>\n",
       "      <td>0</td>\n",
       "      <td>27.0</td>\n",
       "      <td>0</td>\n",
       "      <td>0</td>\n",
       "      <td>13.00</td>\n",
       "      <td>0</td>\n",
       "      <td>0</td>\n",
       "      <td>0</td>\n",
       "      <td>1</td>\n",
       "    </tr>\n",
       "    <tr>\n",
       "      <th>887</th>\n",
       "      <td>1</td>\n",
       "      <td>1</td>\n",
       "      <td>1</td>\n",
       "      <td>19.0</td>\n",
       "      <td>0</td>\n",
       "      <td>0</td>\n",
       "      <td>30.00</td>\n",
       "      <td>1</td>\n",
       "      <td>0</td>\n",
       "      <td>0</td>\n",
       "      <td>1</td>\n",
       "    </tr>\n",
       "    <tr>\n",
       "      <th>888</th>\n",
       "      <td>0</td>\n",
       "      <td>3</td>\n",
       "      <td>1</td>\n",
       "      <td>NaN</td>\n",
       "      <td>1</td>\n",
       "      <td>2</td>\n",
       "      <td>23.45</td>\n",
       "      <td>0</td>\n",
       "      <td>0</td>\n",
       "      <td>0</td>\n",
       "      <td>1</td>\n",
       "    </tr>\n",
       "    <tr>\n",
       "      <th>889</th>\n",
       "      <td>1</td>\n",
       "      <td>1</td>\n",
       "      <td>0</td>\n",
       "      <td>26.0</td>\n",
       "      <td>0</td>\n",
       "      <td>0</td>\n",
       "      <td>30.00</td>\n",
       "      <td>1</td>\n",
       "      <td>1</td>\n",
       "      <td>0</td>\n",
       "      <td>0</td>\n",
       "    </tr>\n",
       "    <tr>\n",
       "      <th>890</th>\n",
       "      <td>0</td>\n",
       "      <td>3</td>\n",
       "      <td>0</td>\n",
       "      <td>32.0</td>\n",
       "      <td>0</td>\n",
       "      <td>0</td>\n",
       "      <td>7.75</td>\n",
       "      <td>0</td>\n",
       "      <td>0</td>\n",
       "      <td>1</td>\n",
       "      <td>0</td>\n",
       "    </tr>\n",
       "  </tbody>\n",
       "</table>\n",
       "</div>"
      ],
      "text/plain": [
       "     Survived  Pclass  Sex   Age  SibSp  Parch   Fare  Cabin  C  Q  S\n",
       "886         0       2    0  27.0      0      0  13.00      0  0  0  1\n",
       "887         1       1    1  19.0      0      0  30.00      1  0  0  1\n",
       "888         0       3    1   NaN      1      2  23.45      0  0  0  1\n",
       "889         1       1    0  26.0      0      0  30.00      1  1  0  0\n",
       "890         0       3    0  32.0      0      0   7.75      0  0  1  0"
      ]
     },
     "execution_count": 2,
     "metadata": {},
     "output_type": "execute_result"
    }
   ],
   "source": [
    "traindf[\"Sex\"] = traindf[\"Sex\"].map({\"male\": 0, \"female\": 1})\n",
    "traindf = traindf.drop([\"PassengerId\"], axis=1)\n",
    "traindf = traindf.drop([\"Name\"], axis=1)\n",
    "traindf = traindf.drop_duplicates()\n",
    "\n",
    "df_dummies = pd.get_dummies(traindf['Embarked'])\n",
    "traindf = pd.concat([traindf, df_dummies], axis=1)\n",
    "traindf = traindf.drop([\"Embarked\"], axis=1)\n",
    "traindf['Cabin'] = traindf['Cabin'].isna().apply(lambda x: 0 if x else 1)\n",
    "\n",
    "traindf= traindf.drop([\"Ticket\"],axis=1)\n",
    "\n",
    "traindf.tail()"
   ]
  },
  {
   "cell_type": "code",
   "execution_count": 3,
   "id": "db5a16e6-c6f1-4fe3-9fc5-b56dd0338e46",
   "metadata": {},
   "outputs": [
    {
     "name": "stdout",
     "output_type": "stream",
     "text": [
      "<class 'pandas.core.frame.DataFrame'>\n",
      "Int64Index: 876 entries, 0 to 890\n",
      "Data columns (total 11 columns):\n",
      " #   Column    Non-Null Count  Dtype  \n",
      "---  ------    --------------  -----  \n",
      " 0   Survived  876 non-null    int64  \n",
      " 1   Pclass    876 non-null    int64  \n",
      " 2   Sex       876 non-null    int64  \n",
      " 3   Age       711 non-null    float64\n",
      " 4   SibSp     876 non-null    int64  \n",
      " 5   Parch     876 non-null    int64  \n",
      " 6   Fare      876 non-null    float64\n",
      " 7   Cabin     876 non-null    int64  \n",
      " 8   C         876 non-null    uint8  \n",
      " 9   Q         876 non-null    uint8  \n",
      " 10  S         876 non-null    uint8  \n",
      "dtypes: float64(2), int64(6), uint8(3)\n",
      "memory usage: 64.2 KB\n"
     ]
    }
   ],
   "source": [
    "traindf.info()"
   ]
  },
  {
   "cell_type": "code",
   "execution_count": 4,
   "id": "8bccebaa-69b8-4c28-bb51-5ee66c39f18f",
   "metadata": {},
   "outputs": [
    {
     "data": {
      "image/png": "[encoded data removed]",
      "text/plain": [
       "<Figure size 432x288 with 1 Axes>"
      ]
     },
     "metadata": {
      "needs_background": "light"
     },
     "output_type": "display_data"
    }
   ],
   "source": [
    "correlations = traindf.corr()['Survived'].sort_values(ascending=False)\n",
    "correlations = correlations.drop('Survived')\n",
    "\n",
    "sns.barplot(x=correlations.values, y=correlations.index, palette='coolwarm')\n",
    "plt.title('Correlation with Survived')\n",
    "plt.xlabel('Correlation coefficient')\n",
    "plt.ylabel('Features')\n",
    "plt.show()"
   ]
  },
  {
   "cell_type": "markdown",
   "id": "8912f994-f916-4ec0-a961-651be26b536f",
   "metadata": {},
   "source": [
    "### Women and child first"
   ]
  },
  {
   "cell_type": "code",
   "execution_count": 5,
   "id": "8d929ef1-b058-4b7b-b484-13fd323da215",
   "metadata": {},
   "outputs": [],
   "source": [
    "from sklearn.impute import KNNImputer\n",
    "\n",
    "df_knn = traindf[['Age', 'Pclass', 'SibSp', 'Parch', 'Fare', 'Sex']].copy()\n",
    "original_age = traindf['Age'].copy()\n",
    "imputer = KNNImputer(n_neighbors=5)\n",
    "df_imputed = imputer.fit_transform(df_knn)\n",
    "traindf.loc[traindf['Age'].isna(), 'Age'] = df_imputed[traindf['Age'].isna(), 0]"
   ]
  },
  {
   "cell_type": "code",
   "execution_count": 6,
   "id": "13cb1219-9f4b-4589-9a8d-886fbd678cc5",
   "metadata": {},
   "outputs": [
    {
     "name": "stdout",
     "output_type": "stream",
     "text": [
      "Survival rate (Male): 18.63%\n",
      "Survival rate (Female): 74.92%\n"
     ]
    }
   ],
   "source": [
    "missing_cabin = traindf[traindf['Sex'] == 0]\n",
    "survival_rate_missing_cabin = missing_cabin['Survived'].mean()\n",
    "print(f\"Survival rate (Male): {survival_rate_missing_cabin:.2%}\")\n",
    "\n",
    "missing_cabin = traindf[traindf['Sex'] == 1]\n",
    "survival_rate_missing_cabin = missing_cabin['Survived'].mean()\n",
    "print(f\"Survival rate (Female): {survival_rate_missing_cabin:.2%}\")"
   ]
  },
  {
   "cell_type": "code",
   "execution_count": 7,
   "id": "60d1ba3f-a8bd-46d2-bf2a-4ecf62c8db68",
   "metadata": {},
   "outputs": [
    {
     "data": {
      "image/png": "[encoded data removed]",
      "text/plain": [
       "<Figure size 432x288 with 1 Axes>"
      ]
     },
     "metadata": {
      "needs_background": "light"
     },
     "output_type": "display_data"
    }
   ],
   "source": [
    "sns.histplot(data=traindf, x='Age', hue='Survived', kde=True, bins=30, element='step', stat='density', common_norm=True)\n",
    "plt.title('Age Distribution: Survived vs Not Survived')\n",
    "plt.xlabel('Age')\n",
    "plt.ylabel('Density')\n",
    "plt.legend(title='Survived', labels=['Yes', 'No'])\n",
    "plt.show()"
   ]
  },
  {
   "cell_type": "code",
   "execution_count": 8,
   "id": "83295b61-cc0e-4a18-a9cc-77787248d01a",
   "metadata": {},
   "outputs": [],
   "source": [
    "traindf.loc[traindf[\"Age\"] <= 15, \"Age\"] = 0\n",
    "traindf.loc[(traindf[\"Age\"] > 15) & (traindf[\"Age\"] <= 27), \"Age\"] = 1\n",
    "traindf.loc[(traindf[\"Age\"] > 27) & (traindf[\"Age\"] <= 40), \"Age\"] = 2\n",
    "traindf.loc[(traindf[\"Age\"] > 40) & (traindf[\"Age\"] <= 55), \"Age\"] = 3\n",
    "traindf.loc[traindf[\"Age\"] > 55, \"Age\"] = 4"
   ]
  },
  {
   "cell_type": "code",
   "execution_count": 9,
   "id": "64ca1b9f-4668-41cf-96d9-1369bd6facc1",
   "metadata": {},
   "outputs": [
    {
     "name": "stdout",
     "output_type": "stream",
     "text": [
      "Children: Total:83 Survival rate: 59.04%\n",
      "Teenagers: Total:308 Survival rate: 36.36%\n",
      "Young-adults: Total:305 Survival rate: 36.39%\n",
      "Adults: Total:140 Survival rate: 37.14%\n",
      "Old people: Total:40 Survival rate: 30.00%\n"
     ]
    }
   ],
   "source": [
    "missing_cabin = traindf[traindf['Age'] == 0]\n",
    "survival_rate_missing_cabin = missing_cabin['Survived'].mean()\n",
    "print(f\"Children: Total:{len(missing_cabin)} Survival rate: {survival_rate_missing_cabin:.2%}\")\n",
    "\n",
    "missing_cabin = traindf[traindf['Age'] == 1]\n",
    "survival_rate_missing_cabin = missing_cabin['Survived'].mean()\n",
    "print(f\"Teenagers: Total:{len(missing_cabin)} Survival rate: {survival_rate_missing_cabin:.2%}\")\n",
    "\n",
    "missing_cabin = traindf[traindf['Age'] == 2]\n",
    "survival_rate_missing_cabin = missing_cabin['Survived'].mean()\n",
    "print(f\"Young-adults: Total:{len(missing_cabin)} Survival rate: {survival_rate_missing_cabin:.2%}\")\n",
    "\n",
    "missing_cabin = traindf[traindf['Age'] == 3]\n",
    "survival_rate_missing_cabin = missing_cabin['Survived'].mean()\n",
    "print(f\"Adults: Total:{len(missing_cabin)} Survival rate: {survival_rate_missing_cabin:.2%}\")\n",
    "\n",
    "missing_cabin = traindf[traindf['Age'] == 4]\n",
    "survival_rate_missing_cabin = missing_cabin['Survived'].mean()\n",
    "print(f\"Old people: Total:{len(missing_cabin)} Survival rate: {survival_rate_missing_cabin:.2%}\")"
   ]
  },
  {
   "cell_type": "code",
   "execution_count": 10,
   "id": "1dbcab9b-a55d-4702-9889-73a838bd50db",
   "metadata": {},
   "outputs": [
    {
     "name": "stdout",
     "output_type": "stream",
     "text": [
      "Total survival rate for women and children: 72.33%\n"
     ]
    }
   ],
   "source": [
    "def priority_group(row):\n",
    "    if (row['Sex'] == 1) or (row['Age'] == 0):\n",
    "        return 1\n",
    "    else:\n",
    "        return 0\n",
    "traindf['PriorityGroup'] = traindf.apply(priority_group, axis=1)\n",
    "\n",
    "missing_cabin = traindf[traindf['PriorityGroup'] == 1]\n",
    "survival_rate_missing_cabin = missing_cabin['Survived'].mean()\n",
    "print(f\"Total survival rate for women and children: {survival_rate_missing_cabin:.2%}\")"
   ]
  },
  {
   "cell_type": "code",
   "execution_count": 11,
   "id": "b856a11c-8dc0-48b2-b69d-30a0f6a2c5cb",
   "metadata": {},
   "outputs": [
    {
     "name": "stdout",
     "output_type": "stream",
     "text": [
      "Survival rate for priority group with companion: 69.23%\n",
      "Survival rate for priority group without companion: 77.78%\n",
      "Survival rate for non-priority group with companion: 18.70%\n",
      "Survival rate for non-priority group without companion: 15.27%\n"
     ]
    },
    {
     "data": {
      "text/html": [
       "<div>\n",
       "<style scoped>\n",
       "    .dataframe tbody tr th:only-of-type {\n",
       "        vertical-align: middle;\n",
       "    }\n",
       "\n",
       "    .dataframe tbody tr th {\n",
       "        vertical-align: top;\n",
       "    }\n",
       "\n",
       "    .dataframe thead th {\n",
       "        text-align: right;\n",
       "    }\n",
       "</style>\n",
       "<table border=\"1\" class=\"dataframe\">\n",
       "  <thead>\n",
       "    <tr style=\"text-align: right;\">\n",
       "      <th></th>\n",
       "      <th>Survived</th>\n",
       "      <th>Pclass</th>\n",
       "      <th>Sex</th>\n",
       "      <th>Age</th>\n",
       "      <th>Fare</th>\n",
       "      <th>Cabin</th>\n",
       "      <th>C</th>\n",
       "      <th>Q</th>\n",
       "      <th>S</th>\n",
       "      <th>PriorityGroup</th>\n",
       "      <th>Companion</th>\n",
       "    </tr>\n",
       "  </thead>\n",
       "  <tbody>\n",
       "    <tr>\n",
       "      <th>886</th>\n",
       "      <td>0</td>\n",
       "      <td>2</td>\n",
       "      <td>0</td>\n",
       "      <td>1.0</td>\n",
       "      <td>13.00</td>\n",
       "      <td>0</td>\n",
       "      <td>0</td>\n",
       "      <td>0</td>\n",
       "      <td>1</td>\n",
       "      <td>0</td>\n",
       "      <td>0</td>\n",
       "    </tr>\n",
       "    <tr>\n",
       "      <th>887</th>\n",
       "      <td>1</td>\n",
       "      <td>1</td>\n",
       "      <td>1</td>\n",
       "      <td>1.0</td>\n",
       "      <td>30.00</td>\n",
       "      <td>1</td>\n",
       "      <td>0</td>\n",
       "      <td>0</td>\n",
       "      <td>1</td>\n",
       "      <td>1</td>\n",
       "      <td>0</td>\n",
       "    </tr>\n",
       "    <tr>\n",
       "      <th>888</th>\n",
       "      <td>0</td>\n",
       "      <td>3</td>\n",
       "      <td>1</td>\n",
       "      <td>1.0</td>\n",
       "      <td>23.45</td>\n",
       "      <td>0</td>\n",
       "      <td>0</td>\n",
       "      <td>0</td>\n",
       "      <td>1</td>\n",
       "      <td>1</td>\n",
       "      <td>3</td>\n",
       "    </tr>\n",
       "    <tr>\n",
       "      <th>889</th>\n",
       "      <td>1</td>\n",
       "      <td>1</td>\n",
       "      <td>0</td>\n",
       "      <td>1.0</td>\n",
       "      <td>30.00</td>\n",
       "      <td>1</td>\n",
       "      <td>1</td>\n",
       "      <td>0</td>\n",
       "      <td>0</td>\n",
       "      <td>0</td>\n",
       "      <td>0</td>\n",
       "    </tr>\n",
       "    <tr>\n",
       "      <th>890</th>\n",
       "      <td>0</td>\n",
       "      <td>3</td>\n",
       "      <td>0</td>\n",
       "      <td>2.0</td>\n",
       "      <td>7.75</td>\n",
       "      <td>0</td>\n",
       "      <td>0</td>\n",
       "      <td>1</td>\n",
       "      <td>0</td>\n",
       "      <td>0</td>\n",
       "      <td>0</td>\n",
       "    </tr>\n",
       "  </tbody>\n",
       "</table>\n",
       "</div>"
      ],
      "text/plain": [
       "     Survived  Pclass  Sex  Age   Fare  Cabin  C  Q  S  PriorityGroup  \\\n",
       "886         0       2    0  1.0  13.00      0  0  0  1              0   \n",
       "887         1       1    1  1.0  30.00      1  0  0  1              1   \n",
       "888         0       3    1  1.0  23.45      0  0  0  1              1   \n",
       "889         1       1    0  1.0  30.00      1  1  0  0              0   \n",
       "890         0       3    0  2.0   7.75      0  0  1  0              0   \n",
       "\n",
       "     Companion  \n",
       "886          0  \n",
       "887          0  \n",
       "888          3  \n",
       "889          0  \n",
       "890          0  "
      ]
     },
     "execution_count": 11,
     "metadata": {},
     "output_type": "execute_result"
    }
   ],
   "source": [
    "traindf['Companion'] = traindf[\"SibSp\"] + traindf[\"Parch\"]\n",
    "traindf = traindf.drop(\"SibSp\", axis=1)\n",
    "traindf = traindf.drop(\"Parch\", axis=1)\n",
    "\n",
    "missing_cabin = traindf[(traindf['Companion'] != 0) & (traindf['PriorityGroup'] == 1)]\n",
    "survival_rate_missing_cabin = missing_cabin['Survived'].mean()\n",
    "print(f\"Survival rate for priority group with companion: {survival_rate_missing_cabin:.2%}\")\n",
    "missing_cabin = traindf[(traindf['Companion'] == 0) & (traindf['PriorityGroup'] == 1)]\n",
    "survival_rate_missing_cabin = missing_cabin['Survived'].mean()\n",
    "print(f\"Survival rate for priority group without companion: {survival_rate_missing_cabin:.2%}\")\n",
    "\n",
    "missing_cabin = traindf[(traindf['Companion'] != 0) & (traindf['PriorityGroup'] == 0)]\n",
    "survival_rate_missing_cabin = missing_cabin['Survived'].mean()\n",
    "print(f\"Survival rate for non-priority group with companion: {survival_rate_missing_cabin:.2%}\")\n",
    "missing_cabin = traindf[(traindf['Companion'] == 0) & (traindf['PriorityGroup'] == 0)]\n",
    "survival_rate_missing_cabin = missing_cabin['Survived'].mean()\n",
    "print(f\"Survival rate for non-priority group without companion: {survival_rate_missing_cabin:.2%}\")\n",
    "\n",
    "traindf.tail()"
   ]
  },
  {
   "cell_type": "markdown",
   "id": "2bf1d0a0-7ace-40cd-8849-a23a8ea5c1b2",
   "metadata": {},
   "source": [
    "### Other"
   ]
  },
  {
   "cell_type": "code",
   "execution_count": 12,
   "id": "5982ade5-8510-4555-83a3-77d6fc9bea19",
   "metadata": {},
   "outputs": [
    {
     "data": {
      "image/png": "[encoded data removed]",
      "text/plain": [
       "<Figure size 432x288 with 1 Axes>"
      ]
     },
     "metadata": {
      "needs_background": "light"
     },
     "output_type": "display_data"
    }
   ],
   "source": [
    "sns.histplot(data=traindf, x='Fare', hue='Survived', kde=True, bins=30, element='step', stat='density', common_norm=True)\n",
    "plt.yscale('log')\n",
    "plt.title('Fare Distribution: Survived vs Not Survived')\n",
    "plt.xlim(1, 300) \n",
    "plt.ylim(0.0001, 0.1)  \n",
    "\n",
    "plt.xlabel('Fare')\n",
    "plt.ylabel('Density')\n",
    "plt.legend(title='Survived', labels=['No', 'Yes'])\n",
    "plt.show()"
   ]
  },
  {
   "cell_type": "code",
   "execution_count": 13,
   "id": "d87c0a6e-65df-4f4a-9250-f91f0bca2343",
   "metadata": {},
   "outputs": [
    {
     "name": "stdout",
     "output_type": "stream",
     "text": [
      "Survival rate (Cabin missing): 29.87%\n",
      "Survival rate (Cabin known): 66.50%\n"
     ]
    }
   ],
   "source": [
    "missing_cabin = traindf[traindf['Cabin'] == 0]\n",
    "survival_rate_missing_cabin = missing_cabin['Survived'].mean()\n",
    "print(f\"Survival rate (Cabin missing): {survival_rate_missing_cabin:.2%}\")\n",
    "\n",
    "missing_cabin = traindf[traindf['Cabin'] == 1]\n",
    "survival_rate_missing_cabin = missing_cabin['Survived'].mean()\n",
    "print(f\"Survival rate (Cabin known): {survival_rate_missing_cabin:.2%}\")"
   ]
  },
  {
   "cell_type": "code",
   "execution_count": 14,
   "id": "de7dbe8e-515e-4e9a-884c-eff80c7ba213",
   "metadata": {},
   "outputs": [
    {
     "name": "stdout",
     "output_type": "stream",
     "text": [
      "Survival rate (Cherbourg): 38.16%\n",
      "Survival rate (Queenstown): 33.97%\n",
      "Survival rate (Southampton): 54.55%\n"
     ]
    }
   ],
   "source": [
    "missing_cabin = traindf[traindf['Q'] == 1]\n",
    "survival_rate_missing_cabin = missing_cabin['Survived'].mean()\n",
    "print(f\"Survival rate (Cherbourg): {survival_rate_missing_cabin:.2%}\")\n",
    "\n",
    "missing_cabin = traindf[traindf['S'] == 1]\n",
    "survival_rate_missing_cabin = missing_cabin['Survived'].mean()\n",
    "print(f\"Survival rate (Queenstown): {survival_rate_missing_cabin:.2%}\")\n",
    "\n",
    "missing_cabin = traindf[traindf['C'] == 1]\n",
    "survival_rate_missing_cabin = missing_cabin['Survived'].mean()\n",
    "print(f\"Survival rate (Southampton): {survival_rate_missing_cabin:.2%}\")"
   ]
  },
  {
   "cell_type": "code",
   "execution_count": 15,
   "id": "b3b74898-3af2-4597-9d9d-a7eed14a99eb",
   "metadata": {},
   "outputs": [
    {
     "data": {
      "image/png": "[encoded data removed]",
      "text/plain": [
       "<Figure size 1080x360 with 3 Axes>"
      ]
     },
     "metadata": {},
     "output_type": "display_data"
    }
   ],
   "source": [
    "ports = ['C', 'Q', 'S']\n",
    "fig, axes = plt.subplots(1, 3, figsize=(15, 5))\n",
    "\n",
    "for i, port in enumerate(ports):\n",
    "    port_df = traindf[traindf[port] == 1]\n",
    "    pclass_counts = port_df['Pclass'].value_counts().sort_index()\n",
    "    wedges, texts, autotexts = axes[i].pie(\n",
    "        pclass_counts,\n",
    "        labels=[f'Class {int(cls)}' for cls in pclass_counts.index],\n",
    "        autopct='%1.1f%%',\n",
    "        startangle=90,\n",
    "        wedgeprops=dict(width=0.4)  # Donut chart\n",
    "    )\n",
    "    axes[i].set_title(f\"Pclass Distribution for Port {port[-1]}\")\n",
    "\n",
    "plt.suptitle(\"Pclass Distribution by Embarkation Port\")\n",
    "plt.tight_layout()\n",
    "plt.show()"
   ]
  },
  {
   "cell_type": "markdown",
   "id": "3c49d10d-e7b8-442f-9d08-c271dd0c792a",
   "metadata": {},
   "source": [
    "## 2. Choosing the Model"
   ]
  },
  {
   "cell_type": "code",
   "execution_count": 16,
   "id": "ff52eb36-0979-4c67-9931-ea5ac247553a",
   "metadata": {},
   "outputs": [],
   "source": [
    "from xgboost import XGBClassifier\n",
    "from sklearn.model_selection import GridSearchCV\n",
    "from sklearn.model_selection import train_test_split\n",
    "\n",
    "df_male = traindf[traindf['PriorityGroup'] == 0].copy()\n",
    "df_priority = traindf[traindf['PriorityGroup'] == 1].copy()\n",
    "y_male = df_male[\"Survived\"]\n",
    "X_male = df_male.drop([\"Sex\", \"Survived\", \"PriorityGroup\"], axis=1)\n",
    "\n",
    "y_priority = df_priority[\"Survived\"]\n",
    "X_priority = df_priority.drop([\"Sex\",\"Survived\", \"PriorityGroup\"], axis=1)\n",
    "male = X_male.values\n",
    "priority = X_priority.values\n"
   ]
  },
  {
   "cell_type": "code",
   "execution_count": 17,
   "id": "dfad237f-f8b1-4481-8fce-3089f77347ba",
   "metadata": {},
   "outputs": [
    {
     "name": "stderr",
     "output_type": "stream",
     "text": [
      "C:\\Users\\juanc\\anaconda3\\lib\\site-packages\\xgboost\\sklearn.py:1395: UserWarning: `use_label_encoder` is deprecated in 1.7.0.\n",
      "  warnings.warn(\"`use_label_encoder` is deprecated in 1.7.0.\")\n",
      "C:\\Users\\juanc\\anaconda3\\lib\\site-packages\\xgboost\\sklearn.py:1395: UserWarning: `use_label_encoder` is deprecated in 1.7.0.\n",
      "  warnings.warn(\"`use_label_encoder` is deprecated in 1.7.0.\")\n",
      "C:\\Users\\juanc\\anaconda3\\lib\\site-packages\\xgboost\\sklearn.py:1395: UserWarning: `use_label_encoder` is deprecated in 1.7.0.\n",
      "  warnings.warn(\"`use_label_encoder` is deprecated in 1.7.0.\")\n"
     ]
    },
    {
     "name": "stdout",
     "output_type": "stream",
     "text": [
      "Fitting 5 folds for each of 72 candidates, totalling 360 fits\n",
      "Best parameters: {'colsample_bytree': 0.8, 'learning_rate': 0.01, 'max_depth': 3, 'n_estimators': 100, 'subsample': 1.0}\n",
      "Best score: 0.8431087151841868\n"
     ]
    }
   ],
   "source": [
    "male_model = XGBClassifier(use_label_encoder=False, eval_metric='logloss')\n",
    "\n",
    "param_grid = {\n",
    "    'n_estimators': [100, 200],\n",
    "    'max_depth': [3, 5, 7],\n",
    "    'learning_rate': [0.01, 0.1, 0.2],\n",
    "    'subsample': [0.8, 1.0],\n",
    "    'colsample_bytree': [0.8, 1.0]\n",
    "}\n",
    "\n",
    "grid_search_male = GridSearchCV(\n",
    "    estimator=male_model,\n",
    "    param_grid=param_grid,\n",
    "    cv=5,                   \n",
    "    scoring='accuracy',      \n",
    "    verbose=1,\n",
    "    n_jobs=-1              \n",
    ")\n",
    "\n",
    "grid_search_male.fit(male, y_male)\n",
    "\n",
    "print(\"Best parameters:\", grid_search_male.best_params_)\n",
    "print(\"Best score:\", grid_search_male.best_score_)"
   ]
  },
  {
   "cell_type": "code",
   "execution_count": 18,
   "id": "e0e4af7e-7269-4753-9f03-2bbffd93470e",
   "metadata": {},
   "outputs": [
    {
     "name": "stdout",
     "output_type": "stream",
     "text": [
      "Fitting 5 folds for each of 72 candidates, totalling 360 fits\n"
     ]
    },
    {
     "name": "stderr",
     "output_type": "stream",
     "text": [
      "C:\\Users\\juanc\\anaconda3\\lib\\site-packages\\xgboost\\sklearn.py:1395: UserWarning: `use_label_encoder` is deprecated in 1.7.0.\n",
      "  warnings.warn(\"`use_label_encoder` is deprecated in 1.7.0.\")\n",
      "C:\\Users\\juanc\\anaconda3\\lib\\site-packages\\xgboost\\sklearn.py:1395: UserWarning: `use_label_encoder` is deprecated in 1.7.0.\n",
      "  warnings.warn(\"`use_label_encoder` is deprecated in 1.7.0.\")\n"
     ]
    },
    {
     "name": "stdout",
     "output_type": "stream",
     "text": [
      "Best parameters: {'colsample_bytree': 1.0, 'learning_rate': 0.01, 'max_depth': 7, 'n_estimators': 200, 'subsample': 0.8}\n",
      "Best score: 0.841614906832298\n"
     ]
    }
   ],
   "source": [
    "priority_model = XGBClassifier(use_label_encoder=False, eval_metric='logloss')\n",
    "\n",
    "param_grid = {\n",
    "    'n_estimators': [100, 200],\n",
    "    'max_depth': [3, 5, 7],\n",
    "    'learning_rate': [0.01, 0.1, 0.2],\n",
    "    'subsample': [0.8, 1.0],\n",
    "    'colsample_bytree': [0.8, 1.0]\n",
    "}\n",
    "\n",
    "grid_search = GridSearchCV(\n",
    "    estimator=priority_model,\n",
    "    param_grid=param_grid,\n",
    "    cv=5,                   \n",
    "    scoring='accuracy',      \n",
    "    verbose=1,\n",
    "    n_jobs=-1              \n",
    ")\n",
    "\n",
    "grid_search.fit(priority, y_priority)\n",
    "\n",
    "print(\"Best parameters:\", grid_search.best_params_)\n",
    "print(\"Best score:\", grid_search.best_score_)"
   ]
  },
  {
   "cell_type": "code",
   "execution_count": 19,
   "id": "ee8effff-2c32-4c08-8e20-f540dfa21425",
   "metadata": {},
   "outputs": [
    {
     "name": "stdout",
     "output_type": "stream",
     "text": [
      "<class 'pandas.core.frame.DataFrame'>\n",
      "Int64Index: 529 entries, 0 to 890\n",
      "Data columns (total 8 columns):\n",
      " #   Column     Non-Null Count  Dtype  \n",
      "---  ------     --------------  -----  \n",
      " 0   Pclass     529 non-null    int64  \n",
      " 1   Age        529 non-null    float64\n",
      " 2   Fare       529 non-null    float64\n",
      " 3   Cabin      529 non-null    int64  \n",
      " 4   C          529 non-null    uint8  \n",
      " 5   Q          529 non-null    uint8  \n",
      " 6   S          529 non-null    uint8  \n",
      " 7   Companion  529 non-null    int64  \n",
      "dtypes: float64(2), int64(3), uint8(3)\n",
      "memory usage: 26.3 KB\n"
     ]
    },
    {
     "data": {
      "image/png": "[encoded data removed]",
      "text/plain": [
       "<Figure size 576x338.4 with 2 Axes>"
      ]
     },
     "metadata": {
      "needs_background": "light"
     },
     "output_type": "display_data"
    }
   ],
   "source": [
    "import shap\n",
    "X_male.info()\n",
    "best_male_model = grid_search_male.best_estimator_\n",
    "explainer = shap.TreeExplainer(best_male_model.get_booster())\n",
    "shap_values = explainer.shap_values(male)\n",
    "\n",
    "shap.summary_plot(shap_values, male)"
   ]
  },
  {
   "cell_type": "code",
   "execution_count": 20,
   "id": "8c118117-1305-4759-a7cd-e29bccd5b3b5",
   "metadata": {},
   "outputs": [
    {
     "name": "stdout",
     "output_type": "stream",
     "text": [
      "<class 'pandas.core.frame.DataFrame'>\n",
      "Int64Index: 529 entries, 0 to 890\n",
      "Data columns (total 8 columns):\n",
      " #   Column     Non-Null Count  Dtype  \n",
      "---  ------     --------------  -----  \n",
      " 0   Pclass     529 non-null    int64  \n",
      " 1   Age        529 non-null    float64\n",
      " 2   Fare       529 non-null    float64\n",
      " 3   Cabin      529 non-null    int64  \n",
      " 4   C          529 non-null    uint8  \n",
      " 5   Q          529 non-null    uint8  \n",
      " 6   S          529 non-null    uint8  \n",
      " 7   Companion  529 non-null    int64  \n",
      "dtypes: float64(2), int64(3), uint8(3)\n",
      "memory usage: 26.3 KB\n"
     ]
    },
    {
     "data": {
      "image/png": "[encoded data removed]",
      "text/plain": [
       "<Figure size 576x338.4 with 2 Axes>"
      ]
     },
     "metadata": {
      "needs_background": "light"
     },
     "output_type": "display_data"
    }
   ],
   "source": [
    "import shap\n",
    "X_male.info()\n",
    "best_model = grid_search.best_estimator_\n",
    "explainer = shap.TreeExplainer(best_model.get_booster())\n",
    "shap_values = explainer.shap_values(priority)\n",
    "\n",
    "shap.summary_plot(shap_values, priority)"
   ]
  },
  {
   "cell_type": "markdown",
   "id": "18b45992-3cc1-47a0-9647-04eac6507824",
   "metadata": {},
   "source": [
    "## 3. Applying the model to the test file"
   ]
  },
  {
   "cell_type": "code",
   "execution_count": 21,
   "id": "2bd1a8bf-5c26-4439-ad9b-1cdc41b0f7a0",
   "metadata": {},
   "outputs": [
    {
     "data": {
      "text/html": [
       "<div>\n",
       "<style scoped>\n",
       "    .dataframe tbody tr th:only-of-type {\n",
       "        vertical-align: middle;\n",
       "    }\n",
       "\n",
       "    .dataframe tbody tr th {\n",
       "        vertical-align: top;\n",
       "    }\n",
       "\n",
       "    .dataframe thead th {\n",
       "        text-align: right;\n",
       "    }\n",
       "</style>\n",
       "<table border=\"1\" class=\"dataframe\">\n",
       "  <thead>\n",
       "    <tr style=\"text-align: right;\">\n",
       "      <th></th>\n",
       "      <th>PassengerId</th>\n",
       "      <th>Pclass</th>\n",
       "      <th>Name</th>\n",
       "      <th>Sex</th>\n",
       "      <th>Age</th>\n",
       "      <th>SibSp</th>\n",
       "      <th>Parch</th>\n",
       "      <th>Ticket</th>\n",
       "      <th>Fare</th>\n",
       "      <th>Cabin</th>\n",
       "      <th>Embarked</th>\n",
       "    </tr>\n",
       "  </thead>\n",
       "  <tbody>\n",
       "    <tr>\n",
       "      <th>413</th>\n",
       "      <td>1305</td>\n",
       "      <td>3</td>\n",
       "      <td>Spector, Mr. Woolf</td>\n",
       "      <td>male</td>\n",
       "      <td>NaN</td>\n",
       "      <td>0</td>\n",
       "      <td>0</td>\n",
       "      <td>A.5. 3236</td>\n",
       "      <td>8.0500</td>\n",
       "      <td>NaN</td>\n",
       "      <td>S</td>\n",
       "    </tr>\n",
       "    <tr>\n",
       "      <th>414</th>\n",
       "      <td>1306</td>\n",
       "      <td>1</td>\n",
       "      <td>Oliva y Ocana, Dona. Fermina</td>\n",
       "      <td>female</td>\n",
       "      <td>39.0</td>\n",
       "      <td>0</td>\n",
       "      <td>0</td>\n",
       "      <td>PC 17758</td>\n",
       "      <td>108.9000</td>\n",
       "      <td>C105</td>\n",
       "      <td>C</td>\n",
       "    </tr>\n",
       "    <tr>\n",
       "      <th>415</th>\n",
       "      <td>1307</td>\n",
       "      <td>3</td>\n",
       "      <td>Saether, Mr. Simon Sivertsen</td>\n",
       "      <td>male</td>\n",
       "      <td>38.5</td>\n",
       "      <td>0</td>\n",
       "      <td>0</td>\n",
       "      <td>SOTON/O.Q. 3101262</td>\n",
       "      <td>7.2500</td>\n",
       "      <td>NaN</td>\n",
       "      <td>S</td>\n",
       "    </tr>\n",
       "    <tr>\n",
       "      <th>416</th>\n",
       "      <td>1308</td>\n",
       "      <td>3</td>\n",
       "      <td>Ware, Mr. Frederick</td>\n",
       "      <td>male</td>\n",
       "      <td>NaN</td>\n",
       "      <td>0</td>\n",
       "      <td>0</td>\n",
       "      <td>359309</td>\n",
       "      <td>8.0500</td>\n",
       "      <td>NaN</td>\n",
       "      <td>S</td>\n",
       "    </tr>\n",
       "    <tr>\n",
       "      <th>417</th>\n",
       "      <td>1309</td>\n",
       "      <td>3</td>\n",
       "      <td>Peter, Master. Michael J</td>\n",
       "      <td>male</td>\n",
       "      <td>NaN</td>\n",
       "      <td>1</td>\n",
       "      <td>1</td>\n",
       "      <td>2668</td>\n",
       "      <td>22.3583</td>\n",
       "      <td>NaN</td>\n",
       "      <td>C</td>\n",
       "    </tr>\n",
       "  </tbody>\n",
       "</table>\n",
       "</div>"
      ],
      "text/plain": [
       "     PassengerId  Pclass                          Name     Sex   Age  SibSp  \\\n",
       "413         1305       3            Spector, Mr. Woolf    male   NaN      0   \n",
       "414         1306       1  Oliva y Ocana, Dona. Fermina  female  39.0      0   \n",
       "415         1307       3  Saether, Mr. Simon Sivertsen    male  38.5      0   \n",
       "416         1308       3           Ware, Mr. Frederick    male   NaN      0   \n",
       "417         1309       3      Peter, Master. Michael J    male   NaN      1   \n",
       "\n",
       "     Parch              Ticket      Fare Cabin Embarked  \n",
       "413      0           A.5. 3236    8.0500   NaN        S  \n",
       "414      0            PC 17758  108.9000  C105        C  \n",
       "415      0  SOTON/O.Q. 3101262    7.2500   NaN        S  \n",
       "416      0              359309    8.0500   NaN        S  \n",
       "417      1                2668   22.3583   NaN        C  "
      ]
     },
     "execution_count": 21,
     "metadata": {},
     "output_type": "execute_result"
    }
   ],
   "source": [
    "data = pd.read_csv(\"test.csv\")\n",
    "data.tail()"
   ]
  },
  {
   "cell_type": "code",
   "execution_count": 22,
   "id": "2907a6cd-8a8b-436e-9f14-02bea8462c85",
   "metadata": {},
   "outputs": [
    {
     "name": "stdout",
     "output_type": "stream",
     "text": [
      "<class 'pandas.core.frame.DataFrame'>\n",
      "Int64Index: 418 entries, 0 to 417\n",
      "Data columns (total 11 columns):\n",
      " #   Column       Non-Null Count  Dtype  \n",
      "---  ------       --------------  -----  \n",
      " 0   PassengerId  418 non-null    int64  \n",
      " 1   Pclass       418 non-null    int64  \n",
      " 2   Sex          418 non-null    int64  \n",
      " 3   Age          418 non-null    float64\n",
      " 4   SibSp        418 non-null    int64  \n",
      " 5   Parch        418 non-null    int64  \n",
      " 6   Fare         417 non-null    float64\n",
      " 7   Cabin        418 non-null    int64  \n",
      " 8   C            418 non-null    uint8  \n",
      " 9   Q            418 non-null    uint8  \n",
      " 10  S            418 non-null    uint8  \n",
      "dtypes: float64(2), int64(6), uint8(3)\n",
      "memory usage: 30.6 KB\n"
     ]
    }
   ],
   "source": [
    "data[\"Sex\"] = data[\"Sex\"].map({\"male\": 0, \"female\": 1})\n",
    "data = data.drop([\"Name\"], axis=1)\n",
    "data = data.drop_duplicates()\n",
    "\n",
    "df_dummies = pd.get_dummies(data['Embarked'])\n",
    "data = pd.concat([data, df_dummies], axis=1)\n",
    "data = data.drop([\"Embarked\"], axis=1)\n",
    "data['Cabin'] = data['Cabin'].isna().apply(lambda x: 0 if x else 1)\n",
    "\n",
    "data = data.drop([\"Ticket\"],axis=1)\n",
    "data.tail()\n",
    "\n",
    "features_for_imputation = ['Age', 'Pclass', 'SibSp', 'Parch', 'Fare', 'Sex']\n",
    "df_knn = data[features_for_imputation].copy()\n",
    "imputer = KNNImputer(n_neighbors=5)\n",
    "df_imputed_array = imputer.fit_transform(df_knn)\n",
    "df_imputed = pd.DataFrame(df_imputed_array, columns=features_for_imputation, index=data.index)\n",
    "data.loc[data['Age'].isna(), 'Age'] = df_imputed.loc[data['Age'].isna(), 'Age']\n",
    "\n",
    "data.info()"
   ]
  },
  {
   "cell_type": "code",
   "execution_count": 23,
   "id": "2674b100-a503-491a-9719-848fdfbcd312",
   "metadata": {},
   "outputs": [],
   "source": [
    "data['PriorityGroup'] = data.apply(priority_group, axis=1)\n",
    "data['Companion'] = data[\"SibSp\"] + data[\"Parch\"]\n",
    "data = data.drop(\"SibSp\", axis=1)\n",
    "data = data.drop(\"Parch\", axis=1)"
   ]
  },
  {
   "cell_type": "code",
   "execution_count": 28,
   "id": "4795293d-4a4b-4ad1-9300-5c13ba8e67cf",
   "metadata": {},
   "outputs": [
    {
     "name": "stdout",
     "output_type": "stream",
     "text": [
      "0    219\n",
      "1     47\n",
      "Name: Cabin, dtype: int64\n"
     ]
    },
    {
     "data": {
      "text/html": [
       "<div>\n",
       "<style scoped>\n",
       "    .dataframe tbody tr th:only-of-type {\n",
       "        vertical-align: middle;\n",
       "    }\n",
       "\n",
       "    .dataframe tbody tr th {\n",
       "        vertical-align: top;\n",
       "    }\n",
       "\n",
       "    .dataframe thead th {\n",
       "        text-align: right;\n",
       "    }\n",
       "</style>\n",
       "<table border=\"1\" class=\"dataframe\">\n",
       "  <thead>\n",
       "    <tr style=\"text-align: right;\">\n",
       "      <th></th>\n",
       "      <th>PassengerId</th>\n",
       "      <th>Survived</th>\n",
       "    </tr>\n",
       "  </thead>\n",
       "  <tbody>\n",
       "    <tr>\n",
       "      <th>261</th>\n",
       "      <td>1299</td>\n",
       "      <td>0</td>\n",
       "    </tr>\n",
       "    <tr>\n",
       "      <th>262</th>\n",
       "      <td>1305</td>\n",
       "      <td>0</td>\n",
       "    </tr>\n",
       "    <tr>\n",
       "      <th>263</th>\n",
       "      <td>1307</td>\n",
       "      <td>0</td>\n",
       "    </tr>\n",
       "    <tr>\n",
       "      <th>264</th>\n",
       "      <td>1308</td>\n",
       "      <td>0</td>\n",
       "    </tr>\n",
       "    <tr>\n",
       "      <th>265</th>\n",
       "      <td>1309</td>\n",
       "      <td>0</td>\n",
       "    </tr>\n",
       "  </tbody>\n",
       "</table>\n",
       "</div>"
      ],
      "text/plain": [
       "     PassengerId  Survived\n",
       "261         1299         0\n",
       "262         1305         0\n",
       "263         1307         0\n",
       "264         1308         0\n",
       "265         1309         0"
      ]
     },
     "execution_count": 28,
     "metadata": {},
     "output_type": "execute_result"
    }
   ],
   "source": [
    "df_male = data[data['PriorityGroup'] == 0].copy()\n",
    "MaleId = df_male[\"PassengerId\"]\n",
    "X_male = df_male.drop([\"PassengerId\", \"Sex\", \"PriorityGroup\"], axis=1)\n",
    "male = X_male.values\n",
    "MaleId = MaleId.reset_index(drop=True)\n",
    "male_pred = best_male_model.predict(male)\n",
    "df = pd.DataFrame(male_pred)\n",
    "df.rename(columns ={0:'Survived'}, inplace=True)\n",
    "value_counts = df_male['Cabin'].value_counts()\n",
    "print(value_counts)\n",
    "MaleId = pd.concat([MaleId, df], axis=1)\n",
    "MaleId.tail()"
   ]
  },
  {
   "cell_type": "code",
   "execution_count": 25,
   "id": "ba257ffb-1d98-47a1-82d4-22cc5fe5a675",
   "metadata": {},
   "outputs": [
    {
     "name": "stdout",
     "output_type": "stream",
     "text": [
      "1    117\n",
      "0     35\n",
      "Name: Survived, dtype: int64\n"
     ]
    },
    {
     "data": {
      "text/html": [
       "<div>\n",
       "<style scoped>\n",
       "    .dataframe tbody tr th:only-of-type {\n",
       "        vertical-align: middle;\n",
       "    }\n",
       "\n",
       "    .dataframe tbody tr th {\n",
       "        vertical-align: top;\n",
       "    }\n",
       "\n",
       "    .dataframe thead th {\n",
       "        text-align: right;\n",
       "    }\n",
       "</style>\n",
       "<table border=\"1\" class=\"dataframe\">\n",
       "  <thead>\n",
       "    <tr style=\"text-align: right;\">\n",
       "      <th></th>\n",
       "      <th>PassengerId</th>\n",
       "      <th>Survived</th>\n",
       "    </tr>\n",
       "  </thead>\n",
       "  <tbody>\n",
       "    <tr>\n",
       "      <th>147</th>\n",
       "      <td>1301</td>\n",
       "      <td>0</td>\n",
       "    </tr>\n",
       "    <tr>\n",
       "      <th>148</th>\n",
       "      <td>1302</td>\n",
       "      <td>1</td>\n",
       "    </tr>\n",
       "    <tr>\n",
       "      <th>149</th>\n",
       "      <td>1303</td>\n",
       "      <td>1</td>\n",
       "    </tr>\n",
       "    <tr>\n",
       "      <th>150</th>\n",
       "      <td>1304</td>\n",
       "      <td>0</td>\n",
       "    </tr>\n",
       "    <tr>\n",
       "      <th>151</th>\n",
       "      <td>1306</td>\n",
       "      <td>1</td>\n",
       "    </tr>\n",
       "  </tbody>\n",
       "</table>\n",
       "</div>"
      ],
      "text/plain": [
       "     PassengerId  Survived\n",
       "147         1301         0\n",
       "148         1302         1\n",
       "149         1303         1\n",
       "150         1304         0\n",
       "151         1306         1"
      ]
     },
     "execution_count": 25,
     "metadata": {},
     "output_type": "execute_result"
    }
   ],
   "source": [
    "df_priority = data[data['PriorityGroup'] == 1].copy()\n",
    "PriorityId = df_priority[\"PassengerId\"]\n",
    "PriorityId = PriorityId.reset_index(drop=True)\n",
    "X_male = df_priority.drop([\"PassengerId\", \"Sex\", \"PriorityGroup\"], axis=1)\n",
    "male = X_male.values\n",
    "male_pred = best_model.predict(male)\n",
    "df = pd.DataFrame(male_pred, columns=['Survived'])\n",
    "value_counts = df['Survived'].value_counts()\n",
    "print(value_counts)\n",
    "PriorityId = pd.concat([PriorityId, df], axis=1)\n",
    "PriorityId.tail()"
   ]
  },
  {
   "cell_type": "code",
   "execution_count": 26,
   "id": "9cc21819-4590-4c58-9a2e-8a21344e4b14",
   "metadata": {},
   "outputs": [],
   "source": [
    "df_combined = pd.concat([PriorityId, MaleId])\n",
    "df_sorted = df_combined.sort_values(by='PassengerId', ascending=True).reset_index(drop=True)\n",
    "\n",
    "df_sorted.to_csv('filename.csv', index=False)"
   ]
  },
  {
   "cell_type": "code",
   "execution_count": 27,
   "id": "126c15ee-3757-4e27-8c11-2cd3f6f7b9d6",
   "metadata": {},
   "outputs": [
    {
     "data": {
      "text/html": [
       "<div>\n",
       "<style scoped>\n",
       "    .dataframe tbody tr th:only-of-type {\n",
       "        vertical-align: middle;\n",
       "    }\n",
       "\n",
       "    .dataframe tbody tr th {\n",
       "        vertical-align: top;\n",
       "    }\n",
       "\n",
       "    .dataframe thead th {\n",
       "        text-align: right;\n",
       "    }\n",
       "</style>\n",
       "<table border=\"1\" class=\"dataframe\">\n",
       "  <thead>\n",
       "    <tr style=\"text-align: right;\">\n",
       "      <th></th>\n",
       "      <th>PassengerId</th>\n",
       "      <th>Survived</th>\n",
       "    </tr>\n",
       "  </thead>\n",
       "  <tbody>\n",
       "    <tr>\n",
       "      <th>413</th>\n",
       "      <td>1305</td>\n",
       "      <td>0</td>\n",
       "    </tr>\n",
       "    <tr>\n",
       "      <th>414</th>\n",
       "      <td>1306</td>\n",
       "      <td>1</td>\n",
       "    </tr>\n",
       "    <tr>\n",
       "      <th>415</th>\n",
       "      <td>1307</td>\n",
       "      <td>0</td>\n",
       "    </tr>\n",
       "    <tr>\n",
       "      <th>416</th>\n",
       "      <td>1308</td>\n",
       "      <td>0</td>\n",
       "    </tr>\n",
       "    <tr>\n",
       "      <th>417</th>\n",
       "      <td>1309</td>\n",
       "      <td>0</td>\n",
       "    </tr>\n",
       "  </tbody>\n",
       "</table>\n",
       "</div>"
      ],
      "text/plain": [
       "     PassengerId  Survived\n",
       "413         1305         0\n",
       "414         1306         1\n",
       "415         1307         0\n",
       "416         1308         0\n",
       "417         1309         0"
      ]
     },
     "execution_count": 27,
     "metadata": {},
     "output_type": "execute_result"
    }
   ],
   "source": [
    "df_sorted.tail()"
   ]
  },
  {
   "cell_type": "code",
   "execution_count": null,
   "id": "a8f9883d-38ac-4707-b199-e271862fedf8",
   "metadata": {},
   "outputs": [],
   "source": []
  }
 ],
 "metadata": {
  "kernelspec": {
   "display_name": "Python 3 (ipykernel)",
   "language": "python",
   "name": "python3"
  },
  "language_info": {
   "codemirror_mode": {
    "name": "ipython",
    "version": 3
   },
   "file_extension": ".py",
   "mimetype": "text/x-python",
   "name": "python",
   "nbconvert_exporter": "python",
   "pygments_lexer": "ipython3",
   "version": "3.9.7"
  }
 },
 "nbformat": 4,
 "nbformat_minor": 5
}
